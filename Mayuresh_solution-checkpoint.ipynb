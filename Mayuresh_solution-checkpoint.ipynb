{
 "cells": [
  {
   "cell_type": "markdown",
   "id": "2efb77c7-0737-49c3-9f67-4a9bae7bc4b6",
   "metadata": {},
   "source": [
    "Fraud Detection Project - Accredian Assignment"
   ]
  },
  {
   "cell_type": "code",
   "execution_count": 66,
   "id": "f1c5570c-ef19-416a-9bf9-d7473b0a0022",
   "metadata": {},
   "outputs": [],
   "source": [
    "#Importing  libraries for Data Handling and Visulization\n",
    "import numpy as np\n",
    "import pandas as pd\n",
    "import matplotlib.pyplot as plt\n",
    "import seaborn as sns\n",
    "import warnings\n",
    "warnings.filterwarnings(\"ignore\")"
   ]
  },
  {
   "cell_type": "code",
   "execution_count": 67,
   "id": "d0b0e6db-c76a-4c06-afcf-5a9bf889a644",
   "metadata": {},
   "outputs": [],
   "source": [
    "#ML\n",
    "from sklearn.model_selection import train_test_split\n",
    "from sklearn.preprocessing import StandardScaler\n",
    "from sklearn.linear_model import LogisticRegression\n",
    "from sklearn.ensemble import RandomForestClassifier\n",
    "from xgboost import XGBClassifier\n",
    "from lightgbm import LGBMClassifier\n",
    "\n",
    "from sklearn.metrics import (\n",
    "    classification_report, confusion_matrix,\n",
    "    roc_auc_score, roc_curve,\n",
    "    precision_recall_curve, average_precision_score,\n",
    "    accuracy_score\n",
    ")"
   ]
  },
  {
   "cell_type": "code",
   "execution_count": 68,
   "id": "f9aa8e98-3996-46f6-b634-ef1822cf826f",
   "metadata": {},
   "outputs": [],
   "source": [
    "# Resampling\n",
    "from imblearn.over_sampling import SMOTE\n",
    "\n",
    "# For saving model (optional)\n",
    "import joblib"
   ]
  },
  {
   "cell_type": "markdown",
   "id": "5a01891b-f151-402d-85a7-72bfb07a2d18",
   "metadata": {},
   "source": [
    "Loading the Dataset and Quick checks"
   ]
  },
  {
   "cell_type": "code",
   "execution_count": 73,
   "id": "be998cc0-768e-4232-aea9-5c6d576af999",
   "metadata": {},
   "outputs": [
    {
     "data": {
      "text/html": [
       "<div>\n",
       "<style scoped>\n",
       "    .dataframe tbody tr th:only-of-type {\n",
       "        vertical-align: middle;\n",
       "    }\n",
       "\n",
       "    .dataframe tbody tr th {\n",
       "        vertical-align: top;\n",
       "    }\n",
       "\n",
       "    .dataframe thead th {\n",
       "        text-align: right;\n",
       "    }\n",
       "</style>\n",
       "<table border=\"1\" class=\"dataframe\">\n",
       "  <thead>\n",
       "    <tr style=\"text-align: right;\">\n",
       "      <th></th>\n",
       "      <th>step</th>\n",
       "      <th>type</th>\n",
       "      <th>amount</th>\n",
       "      <th>nameOrig</th>\n",
       "      <th>oldbalanceOrg</th>\n",
       "      <th>newbalanceOrig</th>\n",
       "      <th>nameDest</th>\n",
       "      <th>oldbalanceDest</th>\n",
       "      <th>newbalanceDest</th>\n",
       "      <th>isFraud</th>\n",
       "      <th>isFlaggedFraud</th>\n",
       "    </tr>\n",
       "  </thead>\n",
       "  <tbody>\n",
       "    <tr>\n",
       "      <th>0</th>\n",
       "      <td>1</td>\n",
       "      <td>PAYMENT</td>\n",
       "      <td>9839.64</td>\n",
       "      <td>C1231006815</td>\n",
       "      <td>170136.0</td>\n",
       "      <td>160296.36</td>\n",
       "      <td>M1979787155</td>\n",
       "      <td>0.0</td>\n",
       "      <td>0.0</td>\n",
       "      <td>0</td>\n",
       "      <td>0</td>\n",
       "    </tr>\n",
       "    <tr>\n",
       "      <th>1</th>\n",
       "      <td>1</td>\n",
       "      <td>PAYMENT</td>\n",
       "      <td>1864.28</td>\n",
       "      <td>C1666544295</td>\n",
       "      <td>21249.0</td>\n",
       "      <td>19384.72</td>\n",
       "      <td>M2044282225</td>\n",
       "      <td>0.0</td>\n",
       "      <td>0.0</td>\n",
       "      <td>0</td>\n",
       "      <td>0</td>\n",
       "    </tr>\n",
       "    <tr>\n",
       "      <th>2</th>\n",
       "      <td>1</td>\n",
       "      <td>TRANSFER</td>\n",
       "      <td>181.00</td>\n",
       "      <td>C1305486145</td>\n",
       "      <td>181.0</td>\n",
       "      <td>0.00</td>\n",
       "      <td>C553264065</td>\n",
       "      <td>0.0</td>\n",
       "      <td>0.0</td>\n",
       "      <td>1</td>\n",
       "      <td>0</td>\n",
       "    </tr>\n",
       "    <tr>\n",
       "      <th>3</th>\n",
       "      <td>1</td>\n",
       "      <td>CASH_OUT</td>\n",
       "      <td>181.00</td>\n",
       "      <td>C840083671</td>\n",
       "      <td>181.0</td>\n",
       "      <td>0.00</td>\n",
       "      <td>C38997010</td>\n",
       "      <td>21182.0</td>\n",
       "      <td>0.0</td>\n",
       "      <td>1</td>\n",
       "      <td>0</td>\n",
       "    </tr>\n",
       "    <tr>\n",
       "      <th>4</th>\n",
       "      <td>1</td>\n",
       "      <td>PAYMENT</td>\n",
       "      <td>11668.14</td>\n",
       "      <td>C2048537720</td>\n",
       "      <td>41554.0</td>\n",
       "      <td>29885.86</td>\n",
       "      <td>M1230701703</td>\n",
       "      <td>0.0</td>\n",
       "      <td>0.0</td>\n",
       "      <td>0</td>\n",
       "      <td>0</td>\n",
       "    </tr>\n",
       "  </tbody>\n",
       "</table>\n",
       "</div>"
      ],
      "text/plain": [
       "   step      type    amount     nameOrig  oldbalanceOrg  newbalanceOrig  \\\n",
       "0     1   PAYMENT   9839.64  C1231006815       170136.0       160296.36   \n",
       "1     1   PAYMENT   1864.28  C1666544295        21249.0        19384.72   \n",
       "2     1  TRANSFER    181.00  C1305486145          181.0            0.00   \n",
       "3     1  CASH_OUT    181.00   C840083671          181.0            0.00   \n",
       "4     1   PAYMENT  11668.14  C2048537720        41554.0        29885.86   \n",
       "\n",
       "      nameDest  oldbalanceDest  newbalanceDest  isFraud  isFlaggedFraud  \n",
       "0  M1979787155             0.0             0.0        0               0  \n",
       "1  M2044282225             0.0             0.0        0               0  \n",
       "2   C553264065             0.0             0.0        1               0  \n",
       "3    C38997010         21182.0             0.0        1               0  \n",
       "4  M1230701703             0.0             0.0        0               0  "
      ]
     },
     "execution_count": 73,
     "metadata": {},
     "output_type": "execute_result"
    }
   ],
   "source": [
    "df = pd.read_csv(\"Fraud.csv\")\n",
    "df.head()"
   ]
  },
  {
   "cell_type": "code",
   "execution_count": 72,
   "id": "e23f32fd-9d16-4624-9ea0-9217307130a2",
   "metadata": {},
   "outputs": [
    {
     "name": "stdout",
     "output_type": "stream",
     "text": [
      "\n",
      "Columns and dtypes:\n",
      "step                int64\n",
      "type               object\n",
      "amount            float64\n",
      "nameOrig           object\n",
      "oldbalanceOrg     float64\n",
      "newbalanceOrig    float64\n",
      "nameDest           object\n",
      "oldbalanceDest    float64\n",
      "newbalanceDest    float64\n",
      "isFraud             int64\n",
      "isFlaggedFraud      int64\n",
      "dtype: object\n"
     ]
    }
   ],
   "source": [
    "print(\"\\nColumns and dtypes:\")\n",
    "print(df.dtypes)"
   ]
  },
  {
   "cell_type": "code",
   "execution_count": 74,
   "id": "4dd67292-2abf-4901-ba54-882aae6c7ce0",
   "metadata": {},
   "outputs": [
    {
     "name": "stdout",
     "output_type": "stream",
     "text": [
      "Raw shape: (6362620, 11)\n",
      "isFraud distribution (raw):\n",
      "isFraud\n",
      "0    6354407\n",
      "1       8213\n",
      "Name: count, dtype: int64\n"
     ]
    }
   ],
   "source": [
    "print(\"Raw shape:\", df.shape)\n",
    "print(\"isFraud distribution (raw):\")\n",
    "print(df['isFraud'].value_counts(dropna=False))"
   ]
  },
  {
   "cell_type": "markdown",
   "id": "cdcdd009-d21e-42d9-8bd0-4508d09a4870",
   "metadata": {},
   "source": [
    "Data Cleaning"
   ]
  },
  {
   "cell_type": "code",
   "execution_count": 75,
   "id": "738bcd7a-b14a-4aa7-b10e-8e723a3d9bb1",
   "metadata": {},
   "outputs": [],
   "source": [
    "raw_counts = df['isFraud'].value_counts()\n"
   ]
  },
  {
   "cell_type": "code",
   "execution_count": 76,
   "id": "121a09ad-57fa-4e29-b47d-bce3a15eba92",
   "metadata": {},
   "outputs": [
    {
     "name": "stdout",
     "output_type": "stream",
     "text": [
      "\n",
      "After dropping duplicates: (6362620, 11)\n"
     ]
    }
   ],
   "source": [
    "#drop duplicates \n",
    "df = df.drop_duplicates()\n",
    "print(\"\\nAfter dropping duplicates:\", df.shape)"
   ]
  },
  {
   "cell_type": "code",
   "execution_count": 77,
   "id": "615e03e1-d311-4551-8aad-1da2a33ab9f6",
   "metadata": {},
   "outputs": [],
   "source": [
    "#filling missing values \n",
    "for col in df.columns:\n",
    "    if df[col].dtype == 'object':\n",
    "        # fill categorical with mode (if any missing)\n",
    "        if df[col].isna().sum() > 0:\n",
    "            df[col].fillna(df[col].mode()[0], inplace=True)\n",
    "    else:\n",
    "        # numeric -> fill with median (robust)\n",
    "        if df[col].isna().sum() > 0:\n",
    "            df[col].fillna(df[col].median(), inplace=True)"
   ]
  },
  {
   "cell_type": "code",
   "execution_count": 78,
   "id": "eadffc7e-9b29-40e1-884f-82a096dd6c47",
   "metadata": {},
   "outputs": [],
   "source": [
    "df['isFraud'] = df['isFraud'].astype(int)"
   ]
  },
  {
   "cell_type": "code",
   "execution_count": 79,
   "id": "3dc3e2c5-1aef-48c8-9fac-472ba58bb9b6",
   "metadata": {},
   "outputs": [
    {
     "name": "stdout",
     "output_type": "stream",
     "text": [
      "\n",
      "After cleaning - target counts:\n",
      "isFraud\n",
      "0    6354407\n",
      "1       8213\n",
      "Name: count, dtype: int64\n"
     ]
    }
   ],
   "source": [
    "print(\"\\nAfter cleaning - target counts:\")\n",
    "print(df['isFraud'].value_counts())"
   ]
  },
  {
   "cell_type": "markdown",
   "id": "f261ce58-a67f-4278-b203-b73ef190a346",
   "metadata": {},
   "source": [
    "Exploratory Data Analsis"
   ]
  },
  {
   "cell_type": "code",
   "execution_count": 80,
   "id": "ac610dc6-1612-4b90-9e82-76182e845400",
   "metadata": {},
   "outputs": [
    {
     "data": {
      "image/png": "[encoded data removed]",
      "text/plain": [
       "<Figure size 600x400 with 1 Axes>"
      ]
     },
     "metadata": {},
     "output_type": "display_data"
    }
   ],
   "source": [
    "plt.figure(figsize=(6,4))\n",
    "sns.countplot(x='isFraud', data=df)\n",
    "plt.title(\"Fraud vs Non-Fraud (full dataset)\")\n",
    "plt.show()"
   ]
  },
  {
   "cell_type": "code",
   "execution_count": 81,
   "id": "6eb5689d-c01d-407b-9826-6ef6d3063150",
   "metadata": {},
   "outputs": [
    {
     "data": {
      "image/png": "[encoded data removed]",
      "text/plain": [
       "<Figure size 1000x600 with 2 Axes>"
      ]
     },
     "metadata": {},
     "output_type": "display_data"
    }
   ],
   "source": [
    "plt.figure(figsize=(10,6))\n",
    "sns.heatmap(df.select_dtypes(include=np.number).corr(), cmap='coolwarm', center=0)\n",
    "plt.title(\"Numeric correlation (full dataset)\")\n",
    "plt.show()"
   ]
  },
  {
   "cell_type": "code",
   "execution_count": null,
   "id": "13902ead-4b38-4f88-b452-92c07e87c274",
   "metadata": {},
   "outputs": [],
   "source": [
    "# Handling Outliers"
   ]
  },
  {
   "cell_type": "code",
   "execution_count": 123,
   "id": "def5619b-ac45-48b6-ae3b-89bb3cf1efc0",
   "metadata": {},
   "outputs": [
    {
     "name": "stdout",
     "output_type": "stream",
     "text": [
      "Outliers for 'amount' have been capped using the IQR method.\n",
      "Outliers for 'oldbalanceOrg' have been capped using the IQR method.\n",
      "Outliers for 'newbalanceOrig' have been capped using the IQR method.\n",
      "Outliers for 'oldbalanceDest' have been capped using the IQR method.\n",
      "Outliers for 'newbalanceDest' have been capped using the IQR method.\n"
     ]
    }
   ],
   "source": [
    "def handle_outliers_iqr(df, column):\n",
    "    \n",
    "    Q1 = df[column].quantile(0.25)\n",
    "    Q3 = df[column].quantile(0.75)\n",
    "    IQR = Q3 - Q1\n",
    "    lower_bound = Q1 - 1.5 * IQR\n",
    "    upper_bound = Q3 + 1.5 * IQR\n",
    "\n",
    "    \n",
    "    df[column] = df[column].clip(lower=lower_bound, upper=upper_bound)\n",
    "    print(f\"Outliers for '{column}' have been capped using the IQR method.\")\n",
    "    return df\n",
    "\n",
    "\n",
    "numeric_cols_to_clean = ['amount', 'oldbalanceOrg', 'newbalanceOrig', 'oldbalanceDest', 'newbalanceDest']\n",
    "\n",
    "for col in numeric_cols_to_clean:\n",
    "    df = handle_outliers_iqr(df, col)\n",
    "\n",
    "\n"
   ]
  },
  {
   "cell_type": "code",
   "execution_count": 124,
   "id": "19eb7508-ffea-4bd3-bd95-0a2911e4beec",
   "metadata": {},
   "outputs": [
    {
     "data": {
      "image/png": "[encoded data removed]",
      "text/plain": [
       "<Figure size 640x480 with 1 Axes>"
      ]
     },
     "metadata": {},
     "output_type": "display_data"
    }
   ],
   "source": [
    "sns.boxplot(x=df['amount'])\n",
    "plt.show()"
   ]
  },
  {
   "cell_type": "code",
   "execution_count": 129,
   "id": "8ff29b93-d5d9-4886-99d3-b90404198473",
   "metadata": {},
   "outputs": [],
   "source": [
    "#multi - collinearity"
   ]
  },
  {
   "cell_type": "code",
   "execution_count": 132,
   "id": "ab5b07b5-9bb4-4878-9bf0-49231c33b27e",
   "metadata": {},
   "outputs": [],
   "source": [
    "X = df.drop(columns=['isFraud']).copy()\n",
    "y = df['isFraud'].copy()\n"
   ]
  },
  {
   "cell_type": "code",
   "execution_count": 133,
   "id": "c636e78c-2c2a-4177-ab2f-86bf0e4e14e3",
   "metadata": {},
   "outputs": [],
   "source": [
    "X = pd.get_dummies(X, drop_first=True)"
   ]
  },
  {
   "cell_type": "code",
   "execution_count": 134,
   "id": "a0245ecb-11b9-4dc5-b3a0-b12f6e645ede",
   "metadata": {},
   "outputs": [],
   "source": [
    "def calculate_vif(X_df):\n",
    "    vif_data = pd.DataFrame()\n",
    "    vif_data[\"feature\"] = X_df.columns\n",
    "    vif_data[\"VIF\"] = [\n",
    "        variance_inflation_factor(X_df.values, i)\n",
    "        for i in range(len(X_df.columns))\n",
    "    ]\n",
    "    return vif_data.sort_values(by=\"VIF\", ascending=False)"
   ]
  },
  {
   "cell_type": "code",
   "execution_count": 135,
   "id": "1ba0db1d-0d6b-4aac-9505-aafe6e5c94ac",
   "metadata": {},
   "outputs": [
    {
     "name": "stdout",
     "output_type": "stream",
     "text": [
      "Dropping 'newbalanceDest' with VIF=41.94\n",
      "\n",
      "Final VIF values after dropping high-VIF features:\n",
      "             feature       VIF\n",
      "3     newbalanceOrig  8.750620\n",
      "2      oldbalanceOrg  7.565874\n",
      "8          amt_log1p  7.082681\n",
      "0               step  3.837201\n",
      "1             amount  3.009371\n",
      "4     oldbalanceDest  1.877082\n",
      "6   diff_balance_org  1.757032\n",
      "7  diff_balance_dest  1.182694\n",
      "5     isFlaggedFraud  1.000052\n"
     ]
    }
   ],
   "source": [
    "def remove_multicollinearity(X_df, thresh=10.0):\n",
    "    X_numeric = X_df.select_dtypes(include=[np.number]).copy()\n",
    "    while True:\n",
    "        vif_df = calculate_vif(X_numeric)\n",
    "        max_vif = vif_df[\"VIF\"].max()\n",
    "        if max_vif > thresh:\n",
    "            drop_feature = vif_df.sort_values(\"VIF\", ascending=False).iloc[0][\"feature\"]\n",
    "            print(f\"Dropping '{drop_feature}' with VIF={max_vif:.2f}\")\n",
    "            X_numeric = X_numeric.drop(columns=[drop_feature])\n",
    "        else:\n",
    "            break\n",
    "    return X_numeric\n",
    "\n",
    "X_filtered = remove_multicollinearity(X, thresh=10)\n",
    "\n",
    "print(\"\\nFinal VIF values after dropping high-VIF features:\")\n",
    "print(calculate_vif(X_filtered))"
   ]
  },
  {
   "cell_type": "code",
   "execution_count": null,
   "id": "2267e47b-e97f-448d-9651-b69d34b0be12",
   "metadata": {},
   "outputs": [],
   "source": []
  },
  {
   "cell_type": "markdown",
   "id": "f574b30d-3b1b-4f55-bcc7-d6d91d4f6fca",
   "metadata": {},
   "source": [
    "Feature Engineering"
   ]
  },
  {
   "cell_type": "code",
   "execution_count": 82,
   "id": "94b387f0-eb1b-43e0-9831-84750e689d14",
   "metadata": {},
   "outputs": [
    {
     "name": "stdout",
     "output_type": "stream",
     "text": [
      "Dropped columns: ['nameOrig', 'nameDest']\n"
     ]
    }
   ],
   "source": [
    "drop_cols = []\n",
    "for c in ['nameOrig', 'nameDest']:\n",
    "    if c in df.columns:\n",
    "        drop_cols.append(c)\n",
    "if drop_cols:\n",
    "    df = df.drop(columns=drop_cols)\n",
    "    print(\"Dropped columns:\", drop_cols)"
   ]
  },
  {
   "cell_type": "code",
   "execution_count": 83,
   "id": "1cc1c49c-4321-4f4c-8680-a21ff39c644b",
   "metadata": {},
   "outputs": [
    {
     "name": "stdout",
     "output_type": "stream",
     "text": [
      "Encoded 'type' into dummies.\n"
     ]
    }
   ],
   "source": [
    "#One-Hot encoder 'type'\n",
    "if 'type' in df.columns:\n",
    "    df = pd.get_dummies(df, columns=['type'], drop_first=True)\n",
    "    print(\"Encoded 'type' into dummies.\")"
   ]
  },
  {
   "cell_type": "code",
   "execution_count": 84,
   "id": "fadac300-521d-440a-9c01-c52032d6a11e",
   "metadata": {},
   "outputs": [],
   "source": [
    "#How much money chaned on Origin\\dest"
   ]
  },
  {
   "cell_type": "code",
   "execution_count": 85,
   "id": "90068b90-3ae4-4fd7-a97a-0bbce8868e37",
   "metadata": {},
   "outputs": [],
   "source": [
    "if set(['oldbalanceOrg','newbalanceOrig']).issubset(df.columns):\n",
    "    df['diff_balance_org'] = df['newbalanceOrig'] - df['oldbalanceOrg']\n",
    "if set(['oldbalanceDest','newbalanceDest']).issubset(df.columns):\n",
    "    df['diff_balance_dest'] = df['newbalanceDest'] - df['oldbalanceDest']"
   ]
  },
  {
   "cell_type": "code",
   "execution_count": 86,
   "id": "624b6bac-4214-4fa5-a5fc-72e2faad19fc",
   "metadata": {},
   "outputs": [
    {
     "name": "stdout",
     "output_type": "stream",
     "text": [
      "\n",
      "After feature engineering - columns count: 15\n"
     ]
    }
   ],
   "source": [
    "if 'amount' in df.columns:\n",
    "    df['amt_log1p'] = np.log1p(df['amount'])\n",
    "\n",
    "print(\"\\nAfter feature engineering - columns count:\", len(df.columns))"
   ]
  },
  {
   "cell_type": "code",
   "execution_count": 87,
   "id": "bd672bde-c965-47d9-b370-a02080adf1a1",
   "metadata": {},
   "outputs": [],
   "source": [
    "#Preparing X and y "
   ]
  },
  {
   "cell_type": "code",
   "execution_count": 88,
   "id": "73ce9421-213f-44a1-a303-75fa5779e96b",
   "metadata": {},
   "outputs": [
    {
     "name": "stdout",
     "output_type": "stream",
     "text": [
      "X shape: (6362620, 14)\n",
      "y counts: isFraud\n",
      "0    6354407\n",
      "1       8213\n",
      "Name: count, dtype: int64\n"
     ]
    }
   ],
   "source": [
    "X = df.drop(columns=['isFraud']).copy()\n",
    "y = df['isFraud'].copy()\n",
    "\n",
    "print(\"X shape:\", X.shape)\n",
    "print(\"y counts:\", y.value_counts())"
   ]
  },
  {
   "cell_type": "markdown",
   "id": "04d4a3a5-b891-406b-9044-266857ea0a96",
   "metadata": {},
   "source": [
    "Train-Test split "
   ]
  },
  {
   "cell_type": "code",
   "execution_count": 89,
   "id": "471aaba0-3ee0-46f0-97fd-59241eeefb62",
   "metadata": {},
   "outputs": [],
   "source": [
    "X_train, X_test, y_train, y_test = train_test_split(\n",
    "    X, y, test_size=0.2, random_state=42, stratify=y\n",
    ")\n"
   ]
  },
  {
   "cell_type": "code",
   "execution_count": 90,
   "id": "5451033b-c39b-4f75-9faa-7baf87dfffee",
   "metadata": {},
   "outputs": [
    {
     "name": "stdout",
     "output_type": "stream",
     "text": [
      "\n",
      "Train distribution:\n",
      " isFraud\n",
      "0    5083526\n",
      "1       6570\n",
      "Name: count, dtype: int64\n",
      "Test distribution:\n",
      " isFraud\n",
      "0    1270881\n",
      "1       1643\n",
      "Name: count, dtype: int64\n"
     ]
    }
   ],
   "source": [
    "print(\"\\nTrain distribution:\\n\", y_train.value_counts())\n",
    "print(\"Test distribution:\\n\", y_test.value_counts())"
   ]
  },
  {
   "cell_type": "code",
   "execution_count": 91,
   "id": "c637d048-13ec-4a0a-866b-c2adafe98cee",
   "metadata": {},
   "outputs": [],
   "source": [
    "if y_train.nunique() < 2:\n",
    "    raise RuntimeError(\"Training set contains only one class. Re-check dataset and stratify split.\")\n"
   ]
  },
  {
   "cell_type": "code",
   "execution_count": 92,
   "id": "578e19b6-6fc3-4f32-8c8c-3732cc9c2031",
   "metadata": {},
   "outputs": [],
   "source": [
    "#Scaling numeric columns (fits on train)"
   ]
  },
  {
   "cell_type": "code",
   "execution_count": 93,
   "id": "bda11464-4a85-4bcd-abc7-7e12e859e212",
   "metadata": {},
   "outputs": [
    {
     "name": "stdout",
     "output_type": "stream",
     "text": [
      "\n",
      "Numeric columns to scale: ['step', 'amount', 'oldbalanceOrg', 'newbalanceOrig', 'oldbalanceDest', 'newbalanceDest', 'isFlaggedFraud', 'diff_balance_org', 'diff_balance_dest', 'amt_log1p']\n"
     ]
    }
   ],
   "source": [
    "num_cols = X.select_dtypes(include=[np.number]).columns.tolist()\n",
    "print(\"\\nNumeric columns to scale:\", num_cols)"
   ]
  },
  {
   "cell_type": "code",
   "execution_count": 94,
   "id": "eaf4b03f-7238-406f-a449-ae154bc1f635",
   "metadata": {},
   "outputs": [
    {
     "data": {
      "text/html": [
       "<style>#sk-container-id-1 {\n",
       "  /* Definition of color scheme common for light and dark mode */\n",
       "  --sklearn-color-text: #000;\n",
       "  --sklearn-color-text-muted: #666;\n",
       "  --sklearn-color-line: gray;\n",
       "  /* Definition of color scheme for unfitted estimators */\n",
       "  --sklearn-color-unfitted-level-0: #fff5e6;\n",
       "  --sklearn-color-unfitted-level-1: #f6e4d2;\n",
       "  --sklearn-color-unfitted-level-2: #ffe0b3;\n",
       "  --sklearn-color-unfitted-level-3: chocolate;\n",
       "  /* Definition of color scheme for fitted estimators */\n",
       "  --sklearn-color-fitted-level-0: #f0f8ff;\n",
       "  --sklearn-color-fitted-level-1: #d4ebff;\n",
       "  --sklearn-color-fitted-level-2: #b3dbfd;\n",
       "  --sklearn-color-fitted-level-3: cornflowerblue;\n",
       "\n",
       "  /* Specific color for light theme */\n",
       "  --sklearn-color-text-on-default-background: var(--sg-text-color, var(--theme-code-foreground, var(--jp-content-font-color1, black)));\n",
       "  --sklearn-color-background: var(--sg-background-color, var(--theme-background, var(--jp-layout-color0, white)));\n",
       "  --sklearn-color-border-box: var(--sg-text-color, var(--theme-code-foreground, var(--jp-content-font-color1, black)));\n",
       "  --sklearn-color-icon: #696969;\n",
       "\n",
       "  @media (prefers-color-scheme: dark) {\n",
       "    /* Redefinition of color scheme for dark theme */\n",
       "    --sklearn-color-text-on-default-background: var(--sg-text-color, var(--theme-code-foreground, var(--jp-content-font-color1, white)));\n",
       "    --sklearn-color-background: var(--sg-background-color, var(--theme-background, var(--jp-layout-color0, #111)));\n",
       "    --sklearn-color-border-box: var(--sg-text-color, var(--theme-code-foreground, var(--jp-content-font-color1, white)));\n",
       "    --sklearn-color-icon: #878787;\n",
       "  }\n",
       "}\n",
       "\n",
       "#sk-container-id-1 {\n",
       "  color: var(--sklearn-color-text);\n",
       "}\n",
       "\n",
       "#sk-container-id-1 pre {\n",
       "  padding: 0;\n",
       "}\n",
       "\n",
       "#sk-container-id-1 input.sk-hidden--visually {\n",
       "  border: 0;\n",
       "  clip: rect(1px 1px 1px 1px);\n",
       "  clip: rect(1px, 1px, 1px, 1px);\n",
       "  height: 1px;\n",
       "  margin: -1px;\n",
       "  overflow: hidden;\n",
       "  padding: 0;\n",
       "  position: absolute;\n",
       "  width: 1px;\n",
       "}\n",
       "\n",
       "#sk-container-id-1 div.sk-dashed-wrapped {\n",
       "  border: 1px dashed var(--sklearn-color-line);\n",
       "  margin: 0 0.4em 0.5em 0.4em;\n",
       "  box-sizing: border-box;\n",
       "  padding-bottom: 0.4em;\n",
       "  background-color: var(--sklearn-color-background);\n",
       "}\n",
       "\n",
       "#sk-container-id-1 div.sk-container {\n",
       "  /* jupyter's `normalize.less` sets `[hidden] { display: none; }`\n",
       "     but bootstrap.min.css set `[hidden] { display: none !important; }`\n",
       "     so we also need the `!important` here to be able to override the\n",
       "     default hidden behavior on the sphinx rendered scikit-learn.org.\n",
       "     See: https://github.com/scikit-learn/scikit-learn/issues/21755 */\n",
       "  display: inline-block !important;\n",
       "  position: relative;\n",
       "}\n",
       "\n",
       "#sk-container-id-1 div.sk-text-repr-fallback {\n",
       "  display: none;\n",
       "}\n",
       "\n",
       "div.sk-parallel-item,\n",
       "div.sk-serial,\n",
       "div.sk-item {\n",
       "  /* draw centered vertical line to link estimators */\n",
       "  background-image: linear-gradient(var(--sklearn-color-text-on-default-background), var(--sklearn-color-text-on-default-background));\n",
       "  background-size: 2px 100%;\n",
       "  background-repeat: no-repeat;\n",
       "  background-position: center center;\n",
       "}\n",
       "\n",
       "/* Parallel-specific style estimator block */\n",
       "\n",
       "#sk-container-id-1 div.sk-parallel-item::after {\n",
       "  content: \"\";\n",
       "  width: 100%;\n",
       "  border-bottom: 2px solid var(--sklearn-color-text-on-default-background);\n",
       "  flex-grow: 1;\n",
       "}\n",
       "\n",
       "#sk-container-id-1 div.sk-parallel {\n",
       "  display: flex;\n",
       "  align-items: stretch;\n",
       "  justify-content: center;\n",
       "  background-color: var(--sklearn-color-background);\n",
       "  position: relative;\n",
       "}\n",
       "\n",
       "#sk-container-id-1 div.sk-parallel-item {\n",
       "  display: flex;\n",
       "  flex-direction: column;\n",
       "}\n",
       "\n",
       "#sk-container-id-1 div.sk-parallel-item:first-child::after {\n",
       "  align-self: flex-end;\n",
       "  width: 50%;\n",
       "}\n",
       "\n",
       "#sk-container-id-1 div.sk-parallel-item:last-child::after {\n",
       "  align-self: flex-start;\n",
       "  width: 50%;\n",
       "}\n",
       "\n",
       "#sk-container-id-1 div.sk-parallel-item:only-child::after {\n",
       "  width: 0;\n",
       "}\n",
       "\n",
       "/* Serial-specific style estimator block */\n",
       "\n",
       "#sk-container-id-1 div.sk-serial {\n",
       "  display: flex;\n",
       "  flex-direction: column;\n",
       "  align-items: center;\n",
       "  background-color: var(--sklearn-color-background);\n",
       "  padding-right: 1em;\n",
       "  padding-left: 1em;\n",
       "}\n",
       "\n",
       "\n",
       "/* Toggleable style: style used for estimator/Pipeline/ColumnTransformer box that is\n",
       "clickable and can be expanded/collapsed.\n",
       "- Pipeline and ColumnTransformer use this feature and define the default style\n",
       "- Estimators will overwrite some part of the style using the `sk-estimator` class\n",
       "*/\n",
       "\n",
       "/* Pipeline and ColumnTransformer style (default) */\n",
       "\n",
       "#sk-container-id-1 div.sk-toggleable {\n",
       "  /* Default theme specific background. It is overwritten whether we have a\n",
       "  specific estimator or a Pipeline/ColumnTransformer */\n",
       "  background-color: var(--sklearn-color-background);\n",
       "}\n",
       "\n",
       "/* Toggleable label */\n",
       "#sk-container-id-1 label.sk-toggleable__label {\n",
       "  cursor: pointer;\n",
       "  display: flex;\n",
       "  width: 100%;\n",
       "  margin-bottom: 0;\n",
       "  padding: 0.5em;\n",
       "  box-sizing: border-box;\n",
       "  text-align: center;\n",
       "  align-items: start;\n",
       "  justify-content: space-between;\n",
       "  gap: 0.5em;\n",
       "}\n",
       "\n",
       "#sk-container-id-1 label.sk-toggleable__label .caption {\n",
       "  font-size: 0.6rem;\n",
       "  font-weight: lighter;\n",
       "  color: var(--sklearn-color-text-muted);\n",
       "}\n",
       "\n",
       "#sk-container-id-1 label.sk-toggleable__label-arrow:before {\n",
       "  /* Arrow on the left of the label */\n",
       "  content: \"▸\";\n",
       "  float: left;\n",
       "  margin-right: 0.25em;\n",
       "  color: var(--sklearn-color-icon);\n",
       "}\n",
       "\n",
       "#sk-container-id-1 label.sk-toggleable__label-arrow:hover:before {\n",
       "  color: var(--sklearn-color-text);\n",
       "}\n",
       "\n",
       "/* Toggleable content - dropdown */\n",
       "\n",
       "#sk-container-id-1 div.sk-toggleable__content {\n",
       "  display: none;\n",
       "  text-align: left;\n",
       "  /* unfitted */\n",
       "  background-color: var(--sklearn-color-unfitted-level-0);\n",
       "}\n",
       "\n",
       "#sk-container-id-1 div.sk-toggleable__content.fitted {\n",
       "  /* fitted */\n",
       "  background-color: var(--sklearn-color-fitted-level-0);\n",
       "}\n",
       "\n",
       "#sk-container-id-1 div.sk-toggleable__content pre {\n",
       "  margin: 0.2em;\n",
       "  border-radius: 0.25em;\n",
       "  color: var(--sklearn-color-text);\n",
       "  /* unfitted */\n",
       "  background-color: var(--sklearn-color-unfitted-level-0);\n",
       "}\n",
       "\n",
       "#sk-container-id-1 div.sk-toggleable__content.fitted pre {\n",
       "  /* unfitted */\n",
       "  background-color: var(--sklearn-color-fitted-level-0);\n",
       "}\n",
       "\n",
       "#sk-container-id-1 input.sk-toggleable__control:checked~div.sk-toggleable__content {\n",
       "  /* Expand drop-down */\n",
       "  display: block;\n",
       "  width: 100%;\n",
       "  overflow: visible;\n",
       "}\n",
       "\n",
       "#sk-container-id-1 input.sk-toggleable__control:checked~label.sk-toggleable__label-arrow:before {\n",
       "  content: \"▾\";\n",
       "}\n",
       "\n",
       "/* Pipeline/ColumnTransformer-specific style */\n",
       "\n",
       "#sk-container-id-1 div.sk-label input.sk-toggleable__control:checked~label.sk-toggleable__label {\n",
       "  color: var(--sklearn-color-text);\n",
       "  background-color: var(--sklearn-color-unfitted-level-2);\n",
       "}\n",
       "\n",
       "#sk-container-id-1 div.sk-label.fitted input.sk-toggleable__control:checked~label.sk-toggleable__label {\n",
       "  background-color: var(--sklearn-color-fitted-level-2);\n",
       "}\n",
       "\n",
       "/* Estimator-specific style */\n",
       "\n",
       "/* Colorize estimator box */\n",
       "#sk-container-id-1 div.sk-estimator input.sk-toggleable__control:checked~label.sk-toggleable__label {\n",
       "  /* unfitted */\n",
       "  background-color: var(--sklearn-color-unfitted-level-2);\n",
       "}\n",
       "\n",
       "#sk-container-id-1 div.sk-estimator.fitted input.sk-toggleable__control:checked~label.sk-toggleable__label {\n",
       "  /* fitted */\n",
       "  background-color: var(--sklearn-color-fitted-level-2);\n",
       "}\n",
       "\n",
       "#sk-container-id-1 div.sk-label label.sk-toggleable__label,\n",
       "#sk-container-id-1 div.sk-label label {\n",
       "  /* The background is the default theme color */\n",
       "  color: var(--sklearn-color-text-on-default-background);\n",
       "}\n",
       "\n",
       "/* On hover, darken the color of the background */\n",
       "#sk-container-id-1 div.sk-label:hover label.sk-toggleable__label {\n",
       "  color: var(--sklearn-color-text);\n",
       "  background-color: var(--sklearn-color-unfitted-level-2);\n",
       "}\n",
       "\n",
       "/* Label box, darken color on hover, fitted */\n",
       "#sk-container-id-1 div.sk-label.fitted:hover label.sk-toggleable__label.fitted {\n",
       "  color: var(--sklearn-color-text);\n",
       "  background-color: var(--sklearn-color-fitted-level-2);\n",
       "}\n",
       "\n",
       "/* Estimator label */\n",
       "\n",
       "#sk-container-id-1 div.sk-label label {\n",
       "  font-family: monospace;\n",
       "  font-weight: bold;\n",
       "  display: inline-block;\n",
       "  line-height: 1.2em;\n",
       "}\n",
       "\n",
       "#sk-container-id-1 div.sk-label-container {\n",
       "  text-align: center;\n",
       "}\n",
       "\n",
       "/* Estimator-specific */\n",
       "#sk-container-id-1 div.sk-estimator {\n",
       "  font-family: monospace;\n",
       "  border: 1px dotted var(--sklearn-color-border-box);\n",
       "  border-radius: 0.25em;\n",
       "  box-sizing: border-box;\n",
       "  margin-bottom: 0.5em;\n",
       "  /* unfitted */\n",
       "  background-color: var(--sklearn-color-unfitted-level-0);\n",
       "}\n",
       "\n",
       "#sk-container-id-1 div.sk-estimator.fitted {\n",
       "  /* fitted */\n",
       "  background-color: var(--sklearn-color-fitted-level-0);\n",
       "}\n",
       "\n",
       "/* on hover */\n",
       "#sk-container-id-1 div.sk-estimator:hover {\n",
       "  /* unfitted */\n",
       "  background-color: var(--sklearn-color-unfitted-level-2);\n",
       "}\n",
       "\n",
       "#sk-container-id-1 div.sk-estimator.fitted:hover {\n",
       "  /* fitted */\n",
       "  background-color: var(--sklearn-color-fitted-level-2);\n",
       "}\n",
       "\n",
       "/* Specification for estimator info (e.g. \"i\" and \"?\") */\n",
       "\n",
       "/* Common style for \"i\" and \"?\" */\n",
       "\n",
       ".sk-estimator-doc-link,\n",
       "a:link.sk-estimator-doc-link,\n",
       "a:visited.sk-estimator-doc-link {\n",
       "  float: right;\n",
       "  font-size: smaller;\n",
       "  line-height: 1em;\n",
       "  font-family: monospace;\n",
       "  background-color: var(--sklearn-color-background);\n",
       "  border-radius: 1em;\n",
       "  height: 1em;\n",
       "  width: 1em;\n",
       "  text-decoration: none !important;\n",
       "  margin-left: 0.5em;\n",
       "  text-align: center;\n",
       "  /* unfitted */\n",
       "  border: var(--sklearn-color-unfitted-level-1) 1pt solid;\n",
       "  color: var(--sklearn-color-unfitted-level-1);\n",
       "}\n",
       "\n",
       ".sk-estimator-doc-link.fitted,\n",
       "a:link.sk-estimator-doc-link.fitted,\n",
       "a:visited.sk-estimator-doc-link.fitted {\n",
       "  /* fitted */\n",
       "  border: var(--sklearn-color-fitted-level-1) 1pt solid;\n",
       "  color: var(--sklearn-color-fitted-level-1);\n",
       "}\n",
       "\n",
       "/* On hover */\n",
       "div.sk-estimator:hover .sk-estimator-doc-link:hover,\n",
       ".sk-estimator-doc-link:hover,\n",
       "div.sk-label-container:hover .sk-estimator-doc-link:hover,\n",
       ".sk-estimator-doc-link:hover {\n",
       "  /* unfitted */\n",
       "  background-color: var(--sklearn-color-unfitted-level-3);\n",
       "  color: var(--sklearn-color-background);\n",
       "  text-decoration: none;\n",
       "}\n",
       "\n",
       "div.sk-estimator.fitted:hover .sk-estimator-doc-link.fitted:hover,\n",
       ".sk-estimator-doc-link.fitted:hover,\n",
       "div.sk-label-container:hover .sk-estimator-doc-link.fitted:hover,\n",
       ".sk-estimator-doc-link.fitted:hover {\n",
       "  /* fitted */\n",
       "  background-color: var(--sklearn-color-fitted-level-3);\n",
       "  color: var(--sklearn-color-background);\n",
       "  text-decoration: none;\n",
       "}\n",
       "\n",
       "/* Span, style for the box shown on hovering the info icon */\n",
       ".sk-estimator-doc-link span {\n",
       "  display: none;\n",
       "  z-index: 9999;\n",
       "  position: relative;\n",
       "  font-weight: normal;\n",
       "  right: .2ex;\n",
       "  padding: .5ex;\n",
       "  margin: .5ex;\n",
       "  width: min-content;\n",
       "  min-width: 20ex;\n",
       "  max-width: 50ex;\n",
       "  color: var(--sklearn-color-text);\n",
       "  box-shadow: 2pt 2pt 4pt #999;\n",
       "  /* unfitted */\n",
       "  background: var(--sklearn-color-unfitted-level-0);\n",
       "  border: .5pt solid var(--sklearn-color-unfitted-level-3);\n",
       "}\n",
       "\n",
       ".sk-estimator-doc-link.fitted span {\n",
       "  /* fitted */\n",
       "  background: var(--sklearn-color-fitted-level-0);\n",
       "  border: var(--sklearn-color-fitted-level-3);\n",
       "}\n",
       "\n",
       ".sk-estimator-doc-link:hover span {\n",
       "  display: block;\n",
       "}\n",
       "\n",
       "/* \"?\"-specific style due to the `<a>` HTML tag */\n",
       "\n",
       "#sk-container-id-1 a.estimator_doc_link {\n",
       "  float: right;\n",
       "  font-size: 1rem;\n",
       "  line-height: 1em;\n",
       "  font-family: monospace;\n",
       "  background-color: var(--sklearn-color-background);\n",
       "  border-radius: 1rem;\n",
       "  height: 1rem;\n",
       "  width: 1rem;\n",
       "  text-decoration: none;\n",
       "  /* unfitted */\n",
       "  color: var(--sklearn-color-unfitted-level-1);\n",
       "  border: var(--sklearn-color-unfitted-level-1) 1pt solid;\n",
       "}\n",
       "\n",
       "#sk-container-id-1 a.estimator_doc_link.fitted {\n",
       "  /* fitted */\n",
       "  border: var(--sklearn-color-fitted-level-1) 1pt solid;\n",
       "  color: var(--sklearn-color-fitted-level-1);\n",
       "}\n",
       "\n",
       "/* On hover */\n",
       "#sk-container-id-1 a.estimator_doc_link:hover {\n",
       "  /* unfitted */\n",
       "  background-color: var(--sklearn-color-unfitted-level-3);\n",
       "  color: var(--sklearn-color-background);\n",
       "  text-decoration: none;\n",
       "}\n",
       "\n",
       "#sk-container-id-1 a.estimator_doc_link.fitted:hover {\n",
       "  /* fitted */\n",
       "  background-color: var(--sklearn-color-fitted-level-3);\n",
       "}\n",
       "\n",
       ".estimator-table summary {\n",
       "    padding: .5rem;\n",
       "    font-family: monospace;\n",
       "    cursor: pointer;\n",
       "}\n",
       "\n",
       ".estimator-table details[open] {\n",
       "    padding-left: 0.1rem;\n",
       "    padding-right: 0.1rem;\n",
       "    padding-bottom: 0.3rem;\n",
       "}\n",
       "\n",
       ".estimator-table .parameters-table {\n",
       "    margin-left: auto !important;\n",
       "    margin-right: auto !important;\n",
       "}\n",
       "\n",
       ".estimator-table .parameters-table tr:nth-child(odd) {\n",
       "    background-color: #fff;\n",
       "}\n",
       "\n",
       ".estimator-table .parameters-table tr:nth-child(even) {\n",
       "    background-color: #f6f6f6;\n",
       "}\n",
       "\n",
       ".estimator-table .parameters-table tr:hover {\n",
       "    background-color: #e0e0e0;\n",
       "}\n",
       "\n",
       ".estimator-table table td {\n",
       "    border: 1px solid rgba(106, 105, 104, 0.232);\n",
       "}\n",
       "\n",
       ".user-set td {\n",
       "    color:rgb(255, 94, 0);\n",
       "    text-align: left;\n",
       "}\n",
       "\n",
       ".user-set td.value pre {\n",
       "    color:rgb(255, 94, 0) !important;\n",
       "    background-color: transparent !important;\n",
       "}\n",
       "\n",
       ".default td {\n",
       "    color: black;\n",
       "    text-align: left;\n",
       "}\n",
       "\n",
       ".user-set td i,\n",
       ".default td i {\n",
       "    color: black;\n",
       "}\n",
       "\n",
       ".copy-paste-icon {\n",
       "    background-image: url(data:image/svg+xml;base64,PHN2ZyB4bWxucz0iaHR0cDovL3d3dy53My5vcmcvMjAwMC9zdmciIHZpZXdCb3g9IjAgMCA0NDggNTEyIj48IS0tIUZvbnQgQXdlc29tZSBGcmVlIDYuNy4yIGJ5IEBmb250YXdlc29tZSAtIGh0dHBzOi8vZm9udGF3ZXNvbWUuY29tIExpY2Vuc2UgLSBodHRwczovL2ZvbnRhd2Vzb21lLmNvbS9saWNlbnNlL2ZyZWUgQ29weXJpZ2h0IDIwMjUgRm9udGljb25zLCBJbmMuLS0+PHBhdGggZD0iTTIwOCAwTDMzMi4xIDBjMTIuNyAwIDI0LjkgNS4xIDMzLjkgMTQuMWw2Ny45IDY3LjljOSA5IDE0LjEgMjEuMiAxNC4xIDMzLjlMNDQ4IDMzNmMwIDI2LjUtMjEuNSA0OC00OCA0OGwtMTkyIDBjLTI2LjUgMC00OC0yMS41LTQ4LTQ4bDAtMjg4YzAtMjYuNSAyMS41LTQ4IDQ4LTQ4ek00OCAxMjhsODAgMCAwIDY0LTY0IDAgMCAyNTYgMTkyIDAgMC0zMiA2NCAwIDAgNDhjMCAyNi41LTIxLjUgNDgtNDggNDhMNDggNTEyYy0yNi41IDAtNDgtMjEuNS00OC00OEwwIDE3NmMwLTI2LjUgMjEuNS00OCA0OC00OHoiLz48L3N2Zz4=);\n",
       "    background-repeat: no-repeat;\n",
       "    background-size: 14px 14px;\n",
       "    background-position: 0;\n",
       "    display: inline-block;\n",
       "    width: 14px;\n",
       "    height: 14px;\n",
       "    cursor: pointer;\n",
       "}\n",
       "</style><body><div id=\"sk-container-id-1\" class=\"sk-top-container\"><div class=\"sk-text-repr-fallback\"><pre>StandardScaler()</pre><b>In a Jupyter environment, please rerun this cell to show the HTML representation or trust the notebook. <br />On GitHub, the HTML representation is unable to render, please try loading this page with nbviewer.org.</b></div><div class=\"sk-container\" hidden><div class=\"sk-item\"><div class=\"sk-estimator fitted sk-toggleable\"><input class=\"sk-toggleable__control sk-hidden--visually\" id=\"sk-estimator-id-1\" type=\"checkbox\" checked><label for=\"sk-estimator-id-1\" class=\"sk-toggleable__label fitted sk-toggleable__label-arrow\"><div><div>StandardScaler</div></div><div><a class=\"sk-estimator-doc-link fitted\" rel=\"noreferrer\" target=\"_blank\" href=\"https://scikit-learn.org/1.7/modules/generated/sklearn.preprocessing.StandardScaler.html\">?<span>Documentation for StandardScaler</span></a><span class=\"sk-estimator-doc-link fitted\">i<span>Fitted</span></span></div></label><div class=\"sk-toggleable__content fitted\" data-param-prefix=\"\">\n",
       "        <div class=\"estimator-table\">\n",
       "            <details>\n",
       "                <summary>Parameters</summary>\n",
       "                <table class=\"parameters-table\">\n",
       "                  <tbody>\n",
       "                    \n",
       "        <tr class=\"default\">\n",
       "            <td><i class=\"copy-paste-icon\"\n",
       "                 onclick=\"copyToClipboard('copy',\n",
       "                          this.parentElement.nextElementSibling)\"\n",
       "            ></i></td>\n",
       "            <td class=\"param\">copy&nbsp;</td>\n",
       "            <td class=\"value\">True</td>\n",
       "        </tr>\n",
       "    \n",
       "\n",
       "        <tr class=\"default\">\n",
       "            <td><i class=\"copy-paste-icon\"\n",
       "                 onclick=\"copyToClipboard('with_mean',\n",
       "                          this.parentElement.nextElementSibling)\"\n",
       "            ></i></td>\n",
       "            <td class=\"param\">with_mean&nbsp;</td>\n",
       "            <td class=\"value\">True</td>\n",
       "        </tr>\n",
       "    \n",
       "\n",
       "        <tr class=\"default\">\n",
       "            <td><i class=\"copy-paste-icon\"\n",
       "                 onclick=\"copyToClipboard('with_std',\n",
       "                          this.parentElement.nextElementSibling)\"\n",
       "            ></i></td>\n",
       "            <td class=\"param\">with_std&nbsp;</td>\n",
       "            <td class=\"value\">True</td>\n",
       "        </tr>\n",
       "    \n",
       "                  </tbody>\n",
       "                </table>\n",
       "            </details>\n",
       "        </div>\n",
       "    </div></div></div></div></div><script>function copyToClipboard(text, element) {\n",
       "    // Get the parameter prefix from the closest toggleable content\n",
       "    const toggleableContent = element.closest('.sk-toggleable__content');\n",
       "    const paramPrefix = toggleableContent ? toggleableContent.dataset.paramPrefix : '';\n",
       "    const fullParamName = paramPrefix ? `${paramPrefix}${text}` : text;\n",
       "\n",
       "    const originalStyle = element.style;\n",
       "    const computedStyle = window.getComputedStyle(element);\n",
       "    const originalWidth = computedStyle.width;\n",
       "    const originalHTML = element.innerHTML.replace('Copied!', '');\n",
       "\n",
       "    navigator.clipboard.writeText(fullParamName)\n",
       "        .then(() => {\n",
       "            element.style.width = originalWidth;\n",
       "            element.style.color = 'green';\n",
       "            element.innerHTML = \"Copied!\";\n",
       "\n",
       "            setTimeout(() => {\n",
       "                element.innerHTML = originalHTML;\n",
       "                element.style = originalStyle;\n",
       "            }, 2000);\n",
       "        })\n",
       "        .catch(err => {\n",
       "            console.error('Failed to copy:', err);\n",
       "            element.style.color = 'red';\n",
       "            element.innerHTML = \"Failed!\";\n",
       "            setTimeout(() => {\n",
       "                element.innerHTML = originalHTML;\n",
       "                element.style = originalStyle;\n",
       "            }, 2000);\n",
       "        });\n",
       "    return false;\n",
       "}\n",
       "\n",
       "document.querySelectorAll('.fa-regular.fa-copy').forEach(function(element) {\n",
       "    const toggleableContent = element.closest('.sk-toggleable__content');\n",
       "    const paramPrefix = toggleableContent ? toggleableContent.dataset.paramPrefix : '';\n",
       "    const paramName = element.parentElement.nextElementSibling.textContent.trim();\n",
       "    const fullParamName = paramPrefix ? `${paramPrefix}${paramName}` : paramName;\n",
       "\n",
       "    element.setAttribute('title', fullParamName);\n",
       "});\n",
       "</script></body>"
      ],
      "text/plain": [
       "StandardScaler()"
      ]
     },
     "execution_count": 94,
     "metadata": {},
     "output_type": "execute_result"
    }
   ],
   "source": [
    "scaler = StandardScaler()\n",
    "scaler.fit(X_train[num_cols])"
   ]
  },
  {
   "cell_type": "code",
   "execution_count": 95,
   "id": "73cad8e7-c7f6-498c-a7b6-d8a27d45b253",
   "metadata": {},
   "outputs": [],
   "source": [
    "X_train_scaled = X_train.copy()\n",
    "X_test_scaled = X_test.copy()"
   ]
  },
  {
   "cell_type": "code",
   "execution_count": 96,
   "id": "081f0c5b-7704-474f-8ed3-1631a6260609",
   "metadata": {},
   "outputs": [],
   "source": [
    "X_train_scaled[num_cols] = scaler.transform(X_train[num_cols])\n",
    "X_test_scaled[num_cols] = scaler.transform(X_test[num_cols])"
   ]
  },
  {
   "cell_type": "code",
   "execution_count": 97,
   "id": "fa8419a4-2df1-4042-aaca-d3d3dc87c128",
   "metadata": {},
   "outputs": [],
   "source": [
    "#Building a manageable training sample for resampling"
   ]
  },
  {
   "cell_type": "code",
   "execution_count": 98,
   "id": "71aeab42-2ab6-4a7d-95cd-faa7ad26093b",
   "metadata": {},
   "outputs": [
    {
     "name": "stdout",
     "output_type": "stream",
     "text": [
      "\n",
      "Frauds in train: 6570 ; Non-frauds in train: 5083526\n"
     ]
    }
   ],
   "source": [
    "n_fraud_train = int(y_train.sum())\n",
    "n_nonfraud_train = len(y_train) - n_fraud_train\n",
    "print(f\"\\nFrauds in train: {n_fraud_train} ; Non-frauds in train: {n_nonfraud_train}\")"
   ]
  },
  {
   "cell_type": "code",
   "execution_count": 99,
   "id": "b6e12f74-1c6d-417d-85ba-2d143d333c56",
   "metadata": {},
   "outputs": [
    {
     "name": "stdout",
     "output_type": "stream",
     "text": [
      "Sampling non-fraud examples for a balanced small training set: 65700\n"
     ]
    }
   ],
   "source": [
    "sample_nonfraud_count = min(n_nonfraud_train, max(50000, n_fraud_train * 10))\n",
    "print(\"Sampling non-fraud examples for a balanced small training set:\", sample_nonfraud_count)"
   ]
  },
  {
   "cell_type": "code",
   "execution_count": 101,
   "id": "2efe228c-4e7c-4f41-9960-abe31684fc77",
   "metadata": {},
   "outputs": [],
   "source": [
    "train_frauds_idx = y_train[y_train == 1].index\n",
    "train_nonfrauds_idx = y_train[y_train == 0].index.to_series().sample(n=sample_nonfraud_count, random_state=42)\n",
    "\n",
    "small_idx = train_frauds_idx.union(train_nonfrauds_idx)\n",
    "X_train_small = X_train_scaled.loc[small_idx].copy()\n",
    "y_train_small = y_train.loc[small_idx].copy()"
   ]
  },
  {
   "cell_type": "code",
   "execution_count": 102,
   "id": "4d4fda84-e0cc-48b0-8593-fdfe0c418c12",
   "metadata": {},
   "outputs": [
    {
     "name": "stdout",
     "output_type": "stream",
     "text": [
      "Small train shape: (72270, 14)\n",
      "Small train class balance:\n",
      " isFraud\n",
      "0    65700\n",
      "1     6570\n",
      "Name: count, dtype: int64\n"
     ]
    }
   ],
   "source": [
    "print(\"Small train shape:\", X_train_small.shape)\n",
    "print(\"Small train class balance:\\n\", y_train_small.value_counts())"
   ]
  },
  {
   "cell_type": "code",
   "execution_count": 103,
   "id": "b4d81e81-ff9b-4179-9204-336c8b604772",
   "metadata": {},
   "outputs": [],
   "source": [
    "# Applying SMOTE to the samll trainig set "
   ]
  },
  {
   "cell_type": "code",
   "execution_count": 104,
   "id": "b194e77c-d295-42d4-adc3-3428a4d47583",
   "metadata": {},
   "outputs": [
    {
     "name": "stdout",
     "output_type": "stream",
     "text": [
      "After SMOTE - shape: (131400, 14)\n",
      "After SMOTE - class counts: [65700 65700]\n"
     ]
    }
   ],
   "source": [
    "if y_train_small.nunique() < 2:\n",
    "    # unexpected, but safe-guard\n",
    "    print(\"Not enough classes in small training set for SMOTE. Skipping SMOTE.\")\n",
    "    X_resampled = X_train_small.values\n",
    "    y_resampled = y_train_small.values\n",
    "else:\n",
    "    sm = SMOTE(random_state=42)\n",
    "    X_resampled, y_resampled = sm.fit_resample(X_train_small, y_train_small)\n",
    "    print(\"After SMOTE - shape:\", X_resampled.shape)\n",
    "    print(\"After SMOTE - class counts:\", np.bincount(y_resampled.astype(int)))"
   ]
  },
  {
   "cell_type": "markdown",
   "id": "1c2284b9-6572-48dc-80ae-e03676963e01",
   "metadata": {},
   "source": [
    "Model :training on resampled small dataset, evaluate on full test"
   ]
  },
  {
   "cell_type": "code",
   "execution_count": 105,
   "id": "b1dda4e6-0659-4dd0-a2fc-629e79650c65",
   "metadata": {},
   "outputs": [],
   "source": [
    "models = {\n",
    "    \"LogisticRegression\": LogisticRegression(max_iter=1000, class_weight=\"balanced\"),\n",
    "    \"RandomForest\": RandomForestClassifier(n_estimators=200, random_state=42, class_weight=\"balanced\", n_jobs=-1),\n",
    "    \"XGBoost\": XGBClassifier(use_label_encoder=False, eval_metric='logloss', random_state=42, n_jobs=4),\n",
    "    \"LightGBM\": LGBMClassifier(random_state=42, n_jobs=-1)\n",
    "}\n"
   ]
  },
  {
   "cell_type": "code",
   "execution_count": 111,
   "id": "5307ef05-a7c0-4e66-abce-e6e506bb1974",
   "metadata": {},
   "outputs": [
    {
     "name": "stdout",
     "output_type": "stream",
     "text": [
      "\n",
      "Training LogisticRegression ...\n",
      "\n",
      "----- LogisticRegression -----\n",
      "Accuracy: 0.9507372748961905\n",
      "              precision    recall  f1-score   support\n",
      "\n",
      "           0     1.0000    0.9507    0.9747   1270881\n",
      "           1     0.0250    0.9793    0.0488      1643\n",
      "\n",
      "    accuracy                         0.9507   1272524\n",
      "   macro avg     0.5125    0.9650    0.5118   1272524\n",
      "weighted avg     0.9987    0.9507    0.9735   1272524\n",
      "\n",
      "Confusion matrix:\n",
      " [[1208227   62654]\n",
      " [     34    1609]]\n",
      "ROC-AUC: 0.9948912795328442\n",
      "PR-AUC (average precision): 0.5916654135879374\n",
      "\n",
      "Training RandomForest ...\n",
      "\n",
      "----- RandomForest -----\n",
      "Accuracy: 0.9965698092923985\n",
      "              precision    recall  f1-score   support\n",
      "\n",
      "           0     1.0000    0.9966    0.9983   1270881\n",
      "           1     0.2731    0.9970    0.4287      1643\n",
      "\n",
      "    accuracy                         0.9966   1272524\n",
      "   macro avg     0.6365    0.9968    0.7135   1272524\n",
      "weighted avg     0.9991    0.9966    0.9975   1272524\n",
      "\n",
      "Confusion matrix:\n",
      " [[1266521    4360]\n",
      " [      5    1638]]\n",
      "ROC-AUC: 0.9995428140710816\n",
      "PR-AUC (average precision): 0.9398196047753716\n",
      "\n",
      "Training XGBoost ...\n",
      "\n",
      "----- XGBoost -----\n",
      "Accuracy: 0.9959301356988159\n",
      "              precision    recall  f1-score   support\n",
      "\n",
      "           0     1.0000    0.9959    0.9980   1270881\n",
      "           1     0.2404    0.9963    0.3873      1643\n",
      "\n",
      "    accuracy                         0.9959   1272524\n",
      "   macro avg     0.6202    0.9961    0.6926   1272524\n",
      "weighted avg     0.9990    0.9959    0.9972   1272524\n",
      "\n",
      "Confusion matrix:\n",
      " [[1265708    5173]\n",
      " [      6    1637]]\n",
      "ROC-AUC: 0.9997206477768218\n",
      "PR-AUC (average precision): 0.9508773574680395\n",
      "\n",
      "Training LightGBM ...\n",
      "[LightGBM] [Info] Number of positive: 65700, number of negative: 65700\n",
      "[LightGBM] [Info] Auto-choosing row-wise multi-threading, the overhead of testing was 0.002752 seconds.\n",
      "You can set `force_row_wise=true` to remove the overhead.\n",
      "And if memory is not enough, you can set `force_col_wise=true`.\n",
      "[LightGBM] [Info] Total Bins 2306\n",
      "[LightGBM] [Info] Number of data points in the train set: 131400, number of used features: 14\n",
      "[LightGBM] [Info] [binary:BoostFromScore]: pavg=0.500000 -> initscore=0.000000\n",
      "\n",
      "----- LightGBM -----\n",
      "Accuracy: 0.9952346674797489\n",
      "              precision    recall  f1-score   support\n",
      "\n",
      "           0     1.0000    0.9952    0.9976   1270881\n",
      "           1     0.2127    0.9963    0.3506      1643\n",
      "\n",
      "    accuracy                         0.9952   1272524\n",
      "   macro avg     0.6064    0.9958    0.6741   1272524\n",
      "weighted avg     0.9990    0.9952    0.9968   1272524\n",
      "\n",
      "Confusion matrix:\n",
      " [[1264823    6058]\n",
      " [      6    1637]]\n",
      "ROC-AUC: 0.9997536358533287\n",
      "PR-AUC (average precision): 0.9491459068360975\n"
     ]
    }
   ],
   "source": [
    "def evaluate_model(name, model, X_test_df, y_test_ser):\n",
    "    y_pred = model.predict(X_test_df)\n",
    "    if hasattr(model, \"predict_proba\"):\n",
    "        y_prob = model.predict_proba(X_test_df)[:,1]\n",
    "    else:\n",
    "        # fallback to decision function\n",
    "        try:\n",
    "            y_prob = model.decision_function(X_test_df)\n",
    "            y_prob = (y_prob - y_prob.min()) / (y_prob.max() - y_prob.min() + 1e-9)\n",
    "        except:\n",
    "            y_prob = np.zeros(len(y_pred))\n",
    "    # Metrics\n",
    "    print(f\"\\n----- {name} -----\")\n",
    "    print(\"Accuracy:\", accuracy_score(y_test_ser, y_pred))\n",
    "    print(classification_report(y_test_ser, y_pred, digits=4))\n",
    "    print(\"Confusion matrix:\\n\", confusion_matrix(y_test_ser, y_pred))\n",
    "    try:\n",
    "        auc = roc_auc_score(y_test_ser, y_prob)\n",
    "        print(\"ROC-AUC:\", auc)\n",
    "    except Exception as e:\n",
    "        print(\"ROC-AUC could not be computed:\", e)\n",
    "    # PR-AUC\n",
    "    try:\n",
    "        ap = average_precision_score(y_test_ser, y_prob)\n",
    "        print(\"PR-AUC (average precision):\", ap)\n",
    "    except:\n",
    "        pass\n",
    "    return y_prob\n",
    "\n",
    "results = {}\n",
    "for name, model in models.items():\n",
    "    print(f\"\\nTraining {name} ...\")\n",
    "    model.fit(X_resampled, y_resampled)             # train on RESAMPLED smaller dataset\n",
    "    # evaluate on the full scaled test set (DataFrame)\n",
    "    y_prob = evaluate_model(name, model, X_test_scaled, y_test)\n",
    "    results[name] = model"
   ]
  },
  {
   "cell_type": "code",
   "execution_count": 112,
   "id": "af41259b-eee7-4ce8-9f72-48872df0c652",
   "metadata": {},
   "outputs": [],
   "source": [
    "#Summary table for quick comparison (ROC-AUC & PR-AUC)"
   ]
  },
  {
   "cell_type": "code",
   "execution_count": 114,
   "id": "0e7b19c0-3a32-4b6e-954b-e67b2ea4a4ac",
   "metadata": {},
   "outputs": [
    {
     "name": "stdout",
     "output_type": "stream",
     "text": [
      "\n",
      "Model summary (sorted by ROC-AUC):\n",
      "                model   roc_auc    pr_auc\n",
      "3            LightGBM  0.999754  0.949146\n",
      "2             XGBoost  0.999721  0.950877\n",
      "1        RandomForest  0.999543  0.939820\n",
      "0  LogisticRegression  0.994891  0.591665\n"
     ]
    }
   ],
   "source": [
    "summary =[]\n",
    "for name, model in results.items():\n",
    "    if hasattr(model, \"predict_proba\"):\n",
    "        probs = model.predict_proba(X_test_scaled)[:,1]\n",
    "    else:\n",
    "        probs = model.decision_function(X_test_scaled)\n",
    "    roc = roc_auc_score(y_test, probs)\n",
    "    pr = average_precision_score(y_test, probs)\n",
    "    summary.append((name, roc, pr))\n",
    "summary_df = pd.DataFrame(summary, columns=[\"model\",\"roc_auc\",\"pr_auc\"]).sort_values(by=\"roc_auc\", ascending=False)\n",
    "print(\"\\nModel summary (sorted by ROC-AUC):\")\n",
    "print(summary_df)"
   ]
  },
  {
   "cell_type": "code",
   "execution_count": 115,
   "id": "64fe789a-58ca-4e0f-a305-8fa3122aa0a3",
   "metadata": {},
   "outputs": [],
   "source": [
    "# feature Importances (Random Forest)"
   ]
  },
  {
   "cell_type": "code",
   "execution_count": 116,
   "id": "653c6f59-a62e-47d1-8e53-e82d8baa9f17",
   "metadata": {},
   "outputs": [
    {
     "name": "stdout",
     "output_type": "stream",
     "text": [
      "\n",
      "Top 15 features (RandomForest):\n",
      "diff_balance_org     0.330306\n",
      "oldbalanceOrg        0.146215\n",
      "newbalanceOrig       0.102876\n",
      "amount               0.081398\n",
      "amt_log1p            0.078907\n",
      "type_TRANSFER        0.062406\n",
      "diff_balance_dest    0.053004\n",
      "step                 0.045157\n",
      "type_PAYMENT         0.034950\n",
      "newbalanceDest       0.027116\n",
      "oldbalanceDest       0.019689\n",
      "type_CASH_OUT        0.017056\n",
      "isFlaggedFraud       0.000490\n",
      "type_DEBIT           0.000431\n",
      "dtype: float64\n"
     ]
    },
    {
     "data": {
      "image/png": "[encoded data removed]",
      "text/plain": [
       "<Figure size 800x600 with 1 Axes>"
      ]
     },
     "metadata": {},
     "output_type": "display_data"
    }
   ],
   "source": [
    "if \"RandomForest\" in results:\n",
    "    rf = results[\"RandomForest\"]\n",
    "    # rf was trained on X_resampled (array); map indices back to columns:\n",
    "    feature_names = X_train_small.columns.tolist()\n",
    "    importances = pd.Series(rf.feature_importances_, index=feature_names).sort_values(ascending=False)\n",
    "    print(\"\\nTop 15 features (RandomForest):\")\n",
    "    print(importances.head(15))\n",
    "    plt.figure(figsize=(8,6))\n",
    "    importances.head(15).plot(kind='barh')\n",
    "    plt.gca().invert_yaxis()\n",
    "    plt.title(\"RandomForest Top 15 Feature Importances\")\n",
    "    plt.show()"
   ]
  },
  {
   "cell_type": "code",
   "execution_count": 117,
   "id": "871ef5cd-958a-49ad-bd53-e8c4c8bd7835",
   "metadata": {},
   "outputs": [],
   "source": [
    "# ROC and Precision-Recall Curves (best model)"
   ]
  },
  {
   "cell_type": "code",
   "execution_count": 118,
   "id": "1e5ce110-7c6b-4660-bcfe-c0191073ba94",
   "metadata": {},
   "outputs": [],
   "source": [
    "best_name = summary_df.iloc[0]['model']\n",
    "best_model = results[best_name]\n",
    "probs_best = best_model.predict_proba(X_test_scaled)[:,1]"
   ]
  },
  {
   "cell_type": "code",
   "execution_count": 119,
   "id": "bfab70b2-9bf9-4604-a0d7-bc77c0bbd026",
   "metadata": {},
   "outputs": [
    {
     "data": {
      "image/png": "[encoded data removed]",
      "text/plain": [
       "<Figure size 600x500 with 1 Axes>"
      ]
     },
     "metadata": {},
     "output_type": "display_data"
    }
   ],
   "source": [
    "# ROC\n",
    "fpr, tpr, _ = roc_curve(y_test, probs_best)\n",
    "plt.figure(figsize=(6,5))\n",
    "plt.plot(fpr, tpr, label=f\"{best_name} (AUC={roc_auc_score(y_test, probs_best):.4f})\")\n",
    "plt.plot([0,1],[0,1],'k--')\n",
    "plt.xlabel(\"False Positive Rate\")\n",
    "plt.ylabel(\"True Positive Rate\")\n",
    "plt.title(\"ROC Curve\")\n",
    "plt.legend()\n",
    "plt.show()"
   ]
  },
  {
   "cell_type": "code",
   "execution_count": 120,
   "id": "f7876baa-e79f-4329-b14b-4b561c1daec9",
   "metadata": {},
   "outputs": [
    {
     "data": {
      "image/png": "[encoded data removed]",
      "text/plain": [
       "<Figure size 600x500 with 1 Axes>"
      ]
     },
     "metadata": {},
     "output_type": "display_data"
    }
   ],
   "source": [
    "# Precision-Recall\n",
    "precision, recall, _ = precision_recall_curve(y_test, probs_best)\n",
    "ap = average_precision_score(y_test, probs_best)\n",
    "plt.figure(figsize=(6,5))\n",
    "plt.plot(recall, precision, label=f\"{best_name} (AP={ap:.4f})\")\n",
    "plt.xlabel(\"Recall\")\n",
    "plt.ylabel(\"Precision\")\n",
    "plt.title(\"Precision-Recall Curve\")\n",
    "plt.legend()\n",
    "plt.show()"
   ]
  },
  {
   "cell_type": "code",
   "execution_count": 121,
   "id": "ec1612d6-cb20-4a2b-8691-b57af40d23df",
   "metadata": {},
   "outputs": [
    {
     "name": "stdout",
     "output_type": "stream",
     "text": [
      "Saved best model to best_fraud_model.joblib\n"
     ]
    }
   ],
   "source": [
    "joblib.dump(best_model, \"best_fraud_model.joblib\")\n",
    "print(\"Saved best model to best_fraud_model.joblib\")"
   ]
  },
  {
   "cell_type": "code",
   "execution_count": null,
   "id": "e93bedfd-55d2-499a-85a3-e7adb6133e0d",
   "metadata": {},
   "outputs": [],
   "source": []
  },
  {
   "cell_type": "markdown",
   "id": "5cea168c-5b59-4c6b-8ab0-3ebc0cf80bc2",
   "metadata": {},
   "source": [
    "Answers "
   ]
  },
  {
   "cell_type": "markdown",
   "id": "fe311485-c293-48a4-b707-90a091d39728",
   "metadata": {},
   "source": [
    "1. Data cleaning including missing values, outliers and multi-collinearity.\n",
    "So, for data cleaning, the first thing I did was handle the basics. I checked for duplicates in the data, and thankfully, there weren't any, so the dataset size stayed the same. I also wrote some code to handle missing values. I used the median for any numeric columns and the mode for categorical ones. This is a solid approach because it's robust to extreme values that might be present.\n",
    "\n",
    "My next step was to address outliers and multicollinearity. I used the Interquartile Range (IQR) method to identify and cap outliers in key numeric columns like amount and the various balance fields. Capping them instead of removing them is a great way to handle extreme values without losing valuable data. For multicollinearity, the correlation heatmap gave me a good visual starting point. To get more precise, I used the Variance Inflation Factor (VIF). I wrote a function that iteratively dropped the most highly correlated features until all remaining features had a VIF below 10. This makes the model more stable and easier to interpret.\n",
    "\n",
    "\n",
    "2. Describe your fraud detection model in elaboration.\n",
    "The model I built is designed to proactively detect fraud. I didn't want to just rely on one approach, so I tested four different machine learning models:\n",
    "\n",
    "Logistic Regression: A good baseline model to see how a simple linear model performs.\n",
    "\n",
    "Random Forest: An ensemble method that's great at handling complex data and identifying important features.\n",
    "\n",
    "XGBoost and LightGBM: These are my go-to models for this kind of problem. They are gradient boosting algorithms known for their high performance and efficiency, especially with large datasets.\n",
    "\n",
    "A major challenge with this data is that fraud is so rare. To combat this class imbalance, I used a technique called SMOTE on a smaller, representative sample of the training data. This created synthetic fraud samples, giving the models enough data to properly learn what a fraudulent transaction looks like. It's a much more effective approach than training on the raw imbalanced data.\n",
    "\n",
    "\n",
    "\n",
    "3. How did you select variables to be included in the model?\n",
    "I selected the variables based on a blend of common sense and data-driven analysis. First, I dropped the nameOrig and nameDest columns. They're unique identifiers, so they don't help the model learn generalizable patterns.\n",
    "\n",
    "Next, I focused on feature engineering. I created a couple of new features, like diff_balance_org and diff_balance_dest, to measure the change in account balances. I also used a log transformation on the amount variable to make its distribution more normal.\n",
    "\n",
    "To finalize my choices, I used the Random Forest model's feature importance to rank the variables. This showed me which ones were the most influential in predicting fraud, and I prioritized those in my final models.\n",
    "\n",
    "\n",
    "4. Demonstrate the performance of the model by using best set of tools.\n",
    "When it comes to showing how well the model works, I used a comprehensive set of tools and metrics. It's not enough to just look at accuracy, especially with imbalanced data. I made sure to evaluate my models on the full, original test set to get a realistic picture of their performance.\n",
    "\n",
    "Here's what I looked at:\n",
    "\n",
    "Classification Report: This gives me precision and recall. Recall is particularly important here because I want to make sure the model is catching as many fraudulent transactions as possible.\n",
    "\n",
    "Confusion Matrix: A quick visual to see where the model is making mistakes.\n",
    "\n",
    "ROC and PR Curves: I generated these curves and their corresponding AUC scores. The PR-AUC is especially valuable for imbalanced data, as it shows the trade-off between precision and recall.\n",
    "\n",
    "My analysis showed that LightGBM and XGBoost performed the best, achieving near-perfect ROC-AUC scores and very high PR-AUC scores.\n",
    "\n",
    "\n",
    "5. What are the key factors that predict fraudulent customer?\n",
    "Based on the feature importance from the Random Forest model, the most powerful predictors of fraud were:\n",
    "\n",
    "diff_balance_org: The difference between the new and old balance of the originating account.\n",
    "\n",
    "oldbalanceOrg and newbalanceOrig: The balances of the originating account before and after the transaction.\n",
    "\n",
    "amount: The transaction value.\n",
    "\n",
    "Transaction Type: Specifically, the TRANSFER and CASH_OUT transaction types.\n",
    "\n",
    "6. Do these factors make sense? If yes, How? If not, How not?\n",
    "Yes, absolutely! These factors make perfect sense.\n",
    "\n",
    "When a fraudster gets into an account, their first goal is to move the money out. A large transaction that completely drains the account is highly suspicious. This behavior is perfectly captured by the high importance of diff_balance_org and amount.\n",
    "\n",
    "The fact that fraud is only occurring in the TRANSFER and CASH_OUT categories is also a key insight. These are the two ways a fraudster can actually get their hands on the money. Other transaction types, like PAYMENT, might not be as useful for them. This finding confirms our initial assumptions about how fraudsters operate.\n",
    "\n",
    "\n",
    "7. What kind of prevention should be adopted while company update its infrastructure?\n",
    "If the company is updating its infrastructure, this is a great time to embed a proactive fraud prevention system. I'd recommend:\n",
    "\n",
    "Real-time Monitoring: The new infrastructure should integrate the best-performing model (LightGBM) to score every transaction as it happens. This allows us to catch fraud instantly.\n",
    "\n",
    "Tiered Alerting: Not all alerts are equal. We can set up a system to automatically block very high-risk transactions while sending less certain ones to a team of human analysts for a quick review.\n",
    "\n",
    "Behavioral Analytics: The system should learn a user's normal behavior. If a large transfer to a new account is initiated, especially one that's a significant deviation from the user's history, it should raise a red flag.\n",
    "\n",
    "Continuous Improvement: The fraud landscape is always changing. The new infrastructure should have a pipeline to automatically retrain the model on fresh data so it's always up-to-date against new fraud tactics.\n",
    "\n",
    "\n",
    "8. Assuming these actions have been implemented, how would you determine if they work?\n",
    "To prove these strategies are working, I'd focus on a few key metrics and feedback loops:\n",
    "\n",
    "Reduced Financial Loss: The most important thing is to see a significant drop in the amount of money lost to fraud.\n",
    "\n",
    "Model Performance: I would continuously monitor the model's recall to ensure we're still catching a high percentage of fraud, and precision to make sure we're not annoying too many customers with false positives.\n",
    "\n",
    "Feedback from the Real World: I'd work with the fraud analysts to see if the alerts are actually useful, and I'd listen to customer feedback to make sure the system isn't causing too much friction.\n",
    "\n",
    "Fraudster Adaptability: By analyzing new fraud attempts, we can see if the model's top predictive features are still relevant. If they aren't, it's a signal that the fraudsters have found a new way around our defenses, and it's time to update the model.\n"
   ]
  }
 ],
 "metadata": {
  "kernelspec": {
   "display_name": "Python 3 (ipykernel)",
   "language": "python",
   "name": "python3"
  },
  "language_info": {
   "codemirror_mode": {
    "name": "ipython",
    "version": 3
   },
   "file_extension": ".py",
   "mimetype": "text/x-python",
   "name": "python",
   "nbconvert_exporter": "python",
   "pygments_lexer": "ipython3",
   "version": "3.12.11"
  }
 },
 "nbformat": 4,
 "nbformat_minor": 5
}
